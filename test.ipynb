{
 "cells": [
  {
   "cell_type": "code",
   "execution_count": 25,
   "id": "4f7a826e",
   "metadata": {},
   "outputs": [],
   "source": [
    "import regex"
   ]
  },
  {
   "cell_type": "code",
   "execution_count": 29,
   "id": "34ea6597",
   "metadata": {},
   "outputs": [
    {
     "name": "stdout",
     "output_type": "stream",
     "text": [
      "104\n",
      "101\n",
      "108\n",
      "108\n",
      "111\n",
      "33\n",
      "32\n",
      "230\n",
      "136\n",
      "145\n",
      "230\n",
      "152\n",
      "175\n",
      "66\n",
      "80\n",
      "69\n",
      "97\n",
      "115\n",
      "100\n",
      "102\n"
     ]
    }
   ],
   "source": [
    "test = 'hello! 我是BPEasdf'\n",
    "for b in test.encode('utf-8'):\n",
    "    print(b)"
   ]
  },
  {
   "cell_type": "code",
   "execution_count": 27,
   "id": "a061bc76",
   "metadata": {},
   "outputs": [
    {
     "data": {
      "text/plain": [
       "['hello', '!', ' 我是BPEasdf']"
      ]
     },
     "execution_count": 27,
     "metadata": {},
     "output_type": "execute_result"
    }
   ],
   "source": [
    "\n",
    "r = r\"'(?:[sdmt]|ll|ve|re)| ?\\p{L}+| ?\\p{N}+| ?[^\\s\\p{L}\\p{N}]+|\\s+(?!\\S)|\\s+\"\n",
    "pattern = regex.compile(r)\n",
    "pattern.findall(test)"
   ]
  },
  {
   "cell_type": "code",
   "execution_count": null,
   "id": "9167da3a",
   "metadata": {},
   "outputs": [],
   "source": []
  }
 ],
 "metadata": {
  "kernelspec": {
   "display_name": "DailyWork_",
   "language": "python",
   "name": "python3"
  },
  "language_info": {
   "codemirror_mode": {
    "name": "ipython",
    "version": 3
   },
   "file_extension": ".py",
   "mimetype": "text/x-python",
   "name": "python",
   "nbconvert_exporter": "python",
   "pygments_lexer": "ipython3",
   "version": "3.9.13"
  }
 },
 "nbformat": 4,
 "nbformat_minor": 5
}
